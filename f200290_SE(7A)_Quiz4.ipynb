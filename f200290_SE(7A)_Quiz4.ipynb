{
 "cells": [
  {
   "cell_type": "markdown",
   "id": "cd7b5301",
   "metadata": {},
   "source": [
    "#### Quiz: Analyzing Student Data\n",
    "\n",
    "Consider a dataset containing information about students in a school. Use the following randomly generated data for the quiz as following template. The sample data should have following features: <br>\n",
    "Student ID - RANGE (1-100) <br>\n",
    "Class : A,B,C <br>\n",
    "Gender: Male, Female <br>\n",
    "Subject: EE, CS, SE <br>\n",
    "Score: 40-100 <br>\n",
    "##### Submission Guidelines \n",
    "Provide solution in given cell only. <br>\n",
    "Don't write anything for question(s) you're not attempting. <br>\n",
    "Rename the .ipynb file with following convention to get marked your questions -> 21F-1234_Q4"
   ]
  },
  {
   "cell_type": "code",
   "execution_count": 27,
   "id": "d240be7b",
   "metadata": {},
   "outputs": [
    {
     "name": "stdout",
     "output_type": "stream",
     "text": [
      "    StudentID Class  Gender  Math_Score  English_Score  Science_Score  \\\n",
      "0           1    AI  Female          87             97             81   \n",
      "1           2    CS  Female          84             99             84   \n",
      "2           3    AI  Female          98             79             81   \n",
      "3           4    AI    Male          92             94             81   \n",
      "4           5    CS    Male          60             84             65   \n",
      "..        ...   ...     ...         ...            ...            ...   \n",
      "95         96    CS  Female          92             87             69   \n",
      "96         97    CS    Male          83             93             88   \n",
      "97         98    AI  Female          70             61             72   \n",
      "98         99    CS  Female          67             91             71   \n",
      "99        100    CS    Male          95             82             90   \n",
      "\n",
      "    Attendance  \n",
      "0            1  \n",
      "1            1  \n",
      "2            0  \n",
      "3            0  \n",
      "4            1  \n",
      "..         ...  \n",
      "95           0  \n",
      "96           0  \n",
      "97           1  \n",
      "98           0  \n",
      "99           0  \n",
      "\n",
      "[100 rows x 7 columns]\n"
     ]
    }
   ],
   "source": [
    "import pandas as pd\n",
    "import numpy as np\n",
    "\n",
    "np.random.seed(42)\n",
    "\n",
    "# Generate random student data\n",
    "data = {\n",
    "    'StudentID': np.arange(1, 101),\n",
    "    'Class': np.random.choice(['CS', 'SE', 'AI'], size=100),\n",
    "    'Gender': np.random.choice(['Male', 'Female'], size=100),\n",
    "    'Math_Score': np.random.randint(60, 100, size=100),\n",
    "    'English_Score': np.random.randint(60, 100, size=100),\n",
    "    'Science_Score': np.random.randint(60, 100, size=100),\n",
    "    'Attendance': np.random.choice([0, 1], size=100)\n",
    "}\n",
    "\n",
    "# Generate DataFrame\n",
    "df = pd.DataFrame(data)\n",
    "\n",
    "# Display the DataFrame\n",
    "print(df)"
   ]
  },
  {
   "cell_type": "markdown",
   "id": "5ac0e9ab",
   "metadata": {},
   "source": [
    "#### 1. Calculate the average score for each class using pivot table."
   ]
  },
  {
   "cell_type": "code",
   "execution_count": 28,
   "id": "401fcbcb",
   "metadata": {},
   "outputs": [
    {
     "name": "stdout",
     "output_type": "stream",
     "text": [
      "Maximum Score for Each Subject in Each Class:\n",
      "       English_Score  Math_Score  Science_Score\n",
      "Class                                          \n",
      "AI         83.290323   82.645161      78.096774\n",
      "CS         80.757576   77.787879      80.727273\n",
      "SE         82.388889   77.972222      82.000000\n"
     ]
    }
   ],
   "source": [
    "#Add Solution here\n",
    "pivot_table = pd.pivot_table(df, values=['Math_Score', 'English_Score', 'Science_Score'], index='Class', aggfunc=np.mean)\n",
    "\n",
    "# Display the pivot table\n",
    "print(\"Maximum Score for Each Subject in Each Class:\")\n",
    "print(pivot_table)"
   ]
  },
  {
   "cell_type": "markdown",
   "id": "f6c0e84e",
   "metadata": {},
   "source": [
    "#### 2. Find the total number of students in each class and gender."
   ]
  },
  {
   "cell_type": "code",
   "execution_count": 29,
   "id": "3a226cf6",
   "metadata": {},
   "outputs": [
    {
     "name": "stdout",
     "output_type": "stream",
     "text": [
      "Total Number of Students in Each Class and Gender:\n",
      "              StudentID\n",
      "Class Gender           \n",
      "AI    Female         11\n",
      "      Male           20\n",
      "CS    Female         18\n",
      "      Male           15\n",
      "SE    Female         15\n",
      "      Male           21\n"
     ]
    }
   ],
   "source": [
    "#Add Solution here\n",
    "pivot_table = pd.pivot_table(df, values='StudentID', index=['Class', 'Gender'], aggfunc='count')\n",
    "\n",
    "print(\"Total Number of Students in Each Class and Gender:\")\n",
    "print(pivot_table)\n"
   ]
  },
  {
   "cell_type": "markdown",
   "id": "e2cb8ab5",
   "metadata": {},
   "source": [
    "#### 3. Create a pivot table to show the average score for each subject by gender."
   ]
  },
  {
   "cell_type": "code",
   "execution_count": 31,
   "id": "080d74bf",
   "metadata": {},
   "outputs": [
    {
     "name": "stdout",
     "output_type": "stream",
     "text": [
      "Average Score for Each Class:\n",
      "        English_Score  Math_Score  Science_Score\n",
      "Gender                                          \n",
      "Female      80.340909   78.386364      79.659091\n",
      "Male        83.535714   80.125000      80.928571\n"
     ]
    }
   ],
   "source": [
    "#Add Solution here\n",
    "pivot_table = pd.pivot_table(df, values=['Math_Score', 'English_Score', 'Science_Score'], index='Gender', aggfunc=np.mean)\n",
    "\n",
    "print(\"Average Score for Each Class:\")\n",
    "print(pivot_table)"
   ]
  },
  {
   "cell_type": "markdown",
   "id": "cb7b9ca4",
   "metadata": {},
   "source": [
    "#### 4. Calculate the maximum score for each subject in each class.\n"
   ]
  },
  {
   "cell_type": "code",
   "execution_count": 32,
   "id": "88ade475",
   "metadata": {},
   "outputs": [
    {
     "name": "stdout",
     "output_type": "stream",
     "text": [
      "Maximum Score for Each Subject in Each Class:\n",
      "       English_Score  Math_Score  Science_Score\n",
      "Class                                          \n",
      "AI                98          99             98\n",
      "CS                99          98             99\n",
      "SE                99          99             99\n"
     ]
    }
   ],
   "source": [
    "#Add Solution here\n",
    "pivot_table = pd.pivot_table(df, values=['Math_Score', 'English_Score', 'Science_Score'], index='Class', aggfunc=np.max)\n",
    "\n",
    "# Display the pivot table\n",
    "print(\"Maximum Score for Each Subject in Each Class:\")\n",
    "print(pivot_table)"
   ]
  },
  {
   "cell_type": "markdown",
   "id": "7837edde",
   "metadata": {},
   "source": [
    "#### 5.1. Generate a stacked bar chart to represent the total number of students in each class and gender."
   ]
  },
  {
   "cell_type": "code",
   "execution_count": 33,
   "id": "52104cb4",
   "metadata": {},
   "outputs": [
    {
     "data": {
      "image/png": "[encoded data removed]",
      "text/plain": [
       "<Figure size 1000x600 with 1 Axes>"
      ]
     },
     "metadata": {},
     "output_type": "display_data"
    }
   ],
   "source": [
    "#Add Solution here\n",
    "import matplotlib.pyplot as plt\n",
    "pivot_table = pd.pivot_table(df, values='StudentID', index=['Class', 'Gender'], aggfunc='count').unstack()\n",
    "\n",
    "pivot_table.plot(kind='bar', figsize=(10, 6))\n",
    "plt.title('Total Number of Students in Each Class and Gender')\n",
    "plt.xlabel('Class')\n",
    "plt.ylabel('Total Number of Students')\n",
    "plt.show()"
   ]
  },
  {
   "cell_type": "markdown",
   "id": "d3d97f88",
   "metadata": {},
   "source": [
    "#### 5.2. Plot a scatter plot to visualize the relationship between scores in CS and SE."
   ]
  },
  {
   "cell_type": "code",
   "execution_count": 39,
   "id": "ae6d5a24",
   "metadata": {},
   "outputs": [],
   "source": [
    "#Add Solution here\n"
   ]
  },
  {
   "cell_type": "markdown",
   "id": "8fe2f838",
   "metadata": {},
   "source": [
    "#### 5.3. Create a line plot to display the trend of scores over the student IDs."
   ]
  },
  {
   "cell_type": "code",
   "execution_count": null,
   "id": "c3b428cd",
   "metadata": {},
   "outputs": [],
   "source": [
    "#Add Solution here"
   ]
  }
 ],
 "metadata": {
  "kernelspec": {
   "display_name": "Python 3 (ipykernel)",
   "language": "python",
   "name": "python3"
  },
  "language_info": {
   "codemirror_mode": {
    "name": "ipython",
    "version": 3
   },
   "file_extension": ".py",
   "mimetype": "text/x-python",
   "name": "python",
   "nbconvert_exporter": "python",
   "pygments_lexer": "ipython3",
   "version": "3.11.4"
  }
 },
 "nbformat": 4,
 "nbformat_minor": 5
}
